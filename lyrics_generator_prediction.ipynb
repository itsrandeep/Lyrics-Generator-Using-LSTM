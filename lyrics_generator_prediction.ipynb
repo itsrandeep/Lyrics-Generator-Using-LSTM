{
 "cells": [
  {
   "cell_type": "code",
   "execution_count": null,
   "id": "c3964cc6-e2d4-4686-8e48-8e0ae2984a64",
   "metadata": {},
   "outputs": [],
   "source": [
    "import numpy as np\n",
    "import pickle\n",
    "from tensorflow.keras.models import load_model\n",
    "from tensorflow.keras.preprocessing.sequence import pad_sequences"
   ]
  },
  {
   "cell_type": "markdown",
   "id": "419bd3ed-b6c3-48bc-bac9-b4ed910aff23",
   "metadata": {},
   "source": [
    "# Load Saved Model Files"
   ]
  },
  {
   "cell_type": "code",
   "execution_count": null,
   "id": "f0336a2b-914d-46ee-9bbd-8a6e778dc618",
   "metadata": {},
   "outputs": [],
   "source": [
    "with open('model_files/tokenizer.pkl', 'rb') as tokenizer_file:\n",
    "    tokenizer = pickle.load(tokenizer_file)\n",
    "    \n",
    "# will be used during prediction\n",
    "reverse_word_index = dict(map(reversed, tokenizer.word_index.items()))\n",
    "\n",
    "model = load_model('model_files/lyrics_model.h5')"
   ]
  },
  {
   "cell_type": "code",
   "execution_count": null,
   "id": "8a77cb42-4d27-4f81-b15d-0a4db186daaa",
   "metadata": {},
   "outputs": [],
   "source": [
    "seed_texts = [\"you need to calm down\",\"I am writing\",\"I\",\"When you think about me\",\"I fake a smile\"]\n",
    "next_words = 20\n",
    "outputs = []\n",
    "for seed_text in seed_texts:\n",
    "    for _ in range(next_words):\n",
    "        token_list = tokenizer.texts_to_sequences([seed_text])[0]\n",
    "        token_list = pad_sequences([token_list], maxlen=max_sequence_len-1, padding='pre')\n",
    "        predicted = np.argmax(model.predict(token_list), axis=-1)\n",
    "    \n",
    "        output_word = reverse_word_index[predicted[0]]\n",
    "        # adding predicting output to seed_text for predicting again. \n",
    "        seed_text += \" \" + output_word\n",
    "    print(seed_text)"
   ]
  }
 ],
 "metadata": {
  "kernelspec": {
   "display_name": "Python 3",
   "language": "python",
   "name": "python3"
  },
  "language_info": {
   "codemirror_mode": {
    "name": "ipython",
    "version": 3
   },
   "file_extension": ".py",
   "mimetype": "text/x-python",
   "name": "python",
   "nbconvert_exporter": "python",
   "pygments_lexer": "ipython3",
   "version": "3.8.5"
  }
 },
 "nbformat": 4,
 "nbformat_minor": 5
}
