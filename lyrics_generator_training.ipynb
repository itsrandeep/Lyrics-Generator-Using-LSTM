{
 "cells": [
  {
   "cell_type": "markdown",
   "metadata": {
    "colab": {},
    "colab_type": "code",
    "id": "BOwsuGQQY9OL"
   },
   "source": [
    "# Importing required libraries"
   ]
  },
  {
   "cell_type": "code",
   "execution_count": 3,
   "metadata": {
    "colab": {},
    "colab_type": "code",
    "id": "R5tmu5DeHuYi"
   },
   "outputs": [],
   "source": [
    "import tensorflow as tf\n",
    "from tensorflow.keras.preprocessing.sequence import pad_sequences\n",
    "from tensorflow.keras.layers import Embedding, LSTM, Dense, Bidirectional\n",
    "from tensorflow.keras.preprocessing.text import Tokenizer\n",
    "from tensorflow.keras.models import Sequential\n",
    "from tensorflow.keras.optimizers import Adam\n",
    "import numpy as np \n",
    "import pandas as pd\n",
    "import matplotlib.pyplot as plt"
   ]
  },
  {
   "cell_type": "markdown",
   "metadata": {
    "colab_type": "text",
    "id": "voVxjH1gHuYo"
   },
   "source": [
    "## Preprocessing"
   ]
  },
  {
   "cell_type": "code",
   "execution_count": 5,
   "metadata": {
    "colab": {
     "base_uri": "https://localhost:8080/",
     "height": 202
    },
    "colab_type": "code",
    "id": "yQpYkKgrHuYp",
    "outputId": "99a93c21-2c9b-429a-ad85-079e481e4655"
   },
   "outputs": [
    {
     "data": {
      "text/html": [
       "<div>\n",
       "<style scoped>\n",
       "    .dataframe tbody tr th:only-of-type {\n",
       "        vertical-align: middle;\n",
       "    }\n",
       "\n",
       "    .dataframe tbody tr th {\n",
       "        vertical-align: top;\n",
       "    }\n",
       "\n",
       "    .dataframe thead th {\n",
       "        text-align: right;\n",
       "    }\n",
       "</style>\n",
       "<table border=\"1\" class=\"dataframe\">\n",
       "  <thead>\n",
       "    <tr style=\"text-align: right;\">\n",
       "      <th></th>\n",
       "      <th>artist</th>\n",
       "      <th>album</th>\n",
       "      <th>track_title</th>\n",
       "      <th>track_n</th>\n",
       "      <th>lyric</th>\n",
       "      <th>line</th>\n",
       "      <th>year</th>\n",
       "    </tr>\n",
       "  </thead>\n",
       "  <tbody>\n",
       "    <tr>\n",
       "      <th>0</th>\n",
       "      <td>Taylor Swift</td>\n",
       "      <td>Taylor Swift</td>\n",
       "      <td>Tim McGraw</td>\n",
       "      <td>1</td>\n",
       "      <td>He said the way my blue eyes shined</td>\n",
       "      <td>1</td>\n",
       "      <td>2006</td>\n",
       "    </tr>\n",
       "    <tr>\n",
       "      <th>1</th>\n",
       "      <td>Taylor Swift</td>\n",
       "      <td>Taylor Swift</td>\n",
       "      <td>Tim McGraw</td>\n",
       "      <td>1</td>\n",
       "      <td>Put those Georgia stars to shame that night</td>\n",
       "      <td>2</td>\n",
       "      <td>2006</td>\n",
       "    </tr>\n",
       "    <tr>\n",
       "      <th>2</th>\n",
       "      <td>Taylor Swift</td>\n",
       "      <td>Taylor Swift</td>\n",
       "      <td>Tim McGraw</td>\n",
       "      <td>1</td>\n",
       "      <td>I said, \"That's a lie\"</td>\n",
       "      <td>3</td>\n",
       "      <td>2006</td>\n",
       "    </tr>\n",
       "    <tr>\n",
       "      <th>3</th>\n",
       "      <td>Taylor Swift</td>\n",
       "      <td>Taylor Swift</td>\n",
       "      <td>Tim McGraw</td>\n",
       "      <td>1</td>\n",
       "      <td>Just a boy in a Chevy truck</td>\n",
       "      <td>4</td>\n",
       "      <td>2006</td>\n",
       "    </tr>\n",
       "    <tr>\n",
       "      <th>4</th>\n",
       "      <td>Taylor Swift</td>\n",
       "      <td>Taylor Swift</td>\n",
       "      <td>Tim McGraw</td>\n",
       "      <td>1</td>\n",
       "      <td>That had a tendency of gettin' stuck</td>\n",
       "      <td>5</td>\n",
       "      <td>2006</td>\n",
       "    </tr>\n",
       "  </tbody>\n",
       "</table>\n",
       "</div>"
      ],
      "text/plain": [
       "         artist         album track_title  track_n  \\\n",
       "0  Taylor Swift  Taylor Swift  Tim McGraw        1   \n",
       "1  Taylor Swift  Taylor Swift  Tim McGraw        1   \n",
       "2  Taylor Swift  Taylor Swift  Tim McGraw        1   \n",
       "3  Taylor Swift  Taylor Swift  Tim McGraw        1   \n",
       "4  Taylor Swift  Taylor Swift  Tim McGraw        1   \n",
       "\n",
       "                                         lyric  line  year  \n",
       "0          He said the way my blue eyes shined     1  2006  \n",
       "1  Put those Georgia stars to shame that night     2  2006  \n",
       "2                       I said, \"That's a lie\"     3  2006  \n",
       "3                  Just a boy in a Chevy truck     4  2006  \n",
       "4         That had a tendency of gettin' stuck     5  2006  "
      ]
     },
     "execution_count": 5,
     "metadata": {},
     "output_type": "execute_result"
    }
   ],
   "source": [
    "# Reading csv file\n",
    "data = pd.read_csv('training_data/taylor_swift_lyrics.csv', encoding = \"ISO-8859-1\")\n",
    "data.head()"
   ]
  },
  {
   "cell_type": "code",
   "execution_count": 6,
   "metadata": {
    "colab": {
     "base_uri": "https://localhost:8080/",
     "height": 52
    },
    "colab_type": "code",
    "id": "QhGlJQRyHuYu",
    "outputId": "125d0ff5-828a-4653-f6a6-c4a7eb0b69be"
   },
   "outputs": [
    {
     "data": {
      "text/plain": [
       "['He said the way my blue eyes shined',\n",
       " 'Put those Georgia stars to shame that night']"
      ]
     },
     "execution_count": 6,
     "metadata": {},
     "output_type": "execute_result"
    }
   ],
   "source": [
    "# corpus will contain data that'll be converted to number sequences. \n",
    "corpus = data['lyric'].tolist()\n",
    "corpus[0:2]"
   ]
  },
  {
   "cell_type": "code",
   "execution_count": 7,
   "metadata": {
    "colab": {
     "base_uri": "https://localhost:8080/",
     "height": 69
    },
    "colab_type": "code",
    "id": "PRnDnCW-Z7qv",
    "outputId": "89b81717-f70f-4ed8-82bc-680e0b592158"
   },
   "outputs": [
    {
     "name": "stdout",
     "output_type": "stream",
     "text": [
      "Total Words -  2408\n",
      "key of word 'around' is  117\n",
      "key of id '117' is  around\n"
     ]
    }
   ],
   "source": [
    "# tokenizer will contain key value index to every word\n",
    "tokenizer = Tokenizer()\n",
    "tokenizer.fit_on_texts(corpus)\n",
    "total_words = len(tokenizer.word_index) + 1\n",
    "\n",
    "# will be used during prediction\n",
    "reverse_word_index = dict(map(reversed, tokenizer.word_index.items()))\n",
    "\n",
    "print('Total Words - ',total_words)\n",
    "print(\"key of word 'around' is \",tokenizer.word_index['around'])\n",
    "print(\"key of id '117' is \",reverse_word_index[117])"
   ]
  },
  {
   "cell_type": "code",
   "execution_count": 6,
   "metadata": {
    "colab": {
     "base_uri": "https://localhost:8080/",
     "height": 69
    },
    "colab_type": "code",
    "id": "soPGVheskaQP",
    "outputId": "622b8e9a-ba6b-4fbe-9267-bed67247ef9c"
   },
   "outputs": [
    {
     "name": "stdout",
     "output_type": "stream",
     "text": [
      "[   0    0    0    0    0    0    0    0    0    0    0    0    0  194\n",
      "  263 1117  605]\n",
      "53\n"
     ]
    }
   ],
   "source": [
    "# Converting input to a sequence of number\n",
    "input_sequences = []\n",
    "for line in corpus:\n",
    "    token_list = tokenizer.texts_to_sequences([line])[0]\n",
    "    for i in range(1, len(token_list)):\n",
    "        n_gram_sequence = token_list[:i+1]\n",
    "        input_sequences.append(n_gram_sequence)\n",
    "\n",
    "# pad sequences \n",
    "max_sequence_len = max([len(x) for x in input_sequences])\n",
    "input_sequences = np.array(pad_sequences(input_sequences, maxlen=max_sequence_len, padding='pre'))\n",
    "\n",
    "# create predictors and label where label is just the last value of every input_sequence\n",
    "xs, labels = input_sequences[:,:-1],input_sequences[:,-1]\n",
    "ys = tf.keras.utils.to_categorical(labels, num_classes=total_words)\n",
    "\n",
    "print(xs[10])\n",
    "print(np.argmax(ys[100]))"
   ]
  },
  {
   "cell_type": "markdown",
   "metadata": {
    "colab_type": "text",
    "id": "vUAt_FEyHuY2"
   },
   "source": [
    "## Creating LSTM Model and fitting data on it!"
   ]
  },
  {
   "cell_type": "code",
   "execution_count": 7,
   "metadata": {
    "colab": {
     "base_uri": "https://localhost:8080/",
     "height": 1000
    },
    "colab_type": "code",
    "id": "w9vH8Y59ajYL",
    "outputId": "139b98d5-dfcc-4a86-bdd5-e0f2a5965fd4",
    "tags": []
   },
   "outputs": [
    {
     "name": "stdout",
     "output_type": "stream",
     "text": [
      "Model: \"sequential\"\n",
      "_________________________________________________________________\n",
      "Layer (type)                 Output Shape              Param #   \n",
      "=================================================================\n",
      "embedding (Embedding)        (None, 17, 100)           240800    \n",
      "_________________________________________________________________\n",
      "bidirectional (Bidirectional (None, 300)               301200    \n",
      "_________________________________________________________________\n",
      "dense (Dense)                (None, 2408)              724808    \n",
      "=================================================================\n",
      "Total params: 1,266,808\n",
      "Trainable params: 1,266,808\n",
      "Non-trainable params: 0\n",
      "_________________________________________________________________\n",
      "None\n",
      "Epoch 1/100\n",
      "957/957 [==============================] - 19s 20ms/step - loss: 5.1516 - accuracy: 0.1498\n",
      "Epoch 2/100\n",
      "957/957 [==============================] - 20s 21ms/step - loss: 3.7129 - accuracy: 0.3099\n",
      "Epoch 3/100\n",
      "957/957 [==============================] - 20s 21ms/step - loss: 3.0192 - accuracy: 0.3940\n",
      "Epoch 4/100\n",
      "957/957 [==============================] - 20s 21ms/step - loss: 2.6056 - accuracy: 0.4451\n",
      "Epoch 5/100\n",
      "957/957 [==============================] - 20s 21ms/step - loss: 2.3270 - accuracy: 0.4816\n",
      "Epoch 6/100\n",
      "957/957 [==============================] - 20s 21ms/step - loss: 2.1746 - accuracy: 0.5042\n",
      "Epoch 7/100\n",
      "957/957 [==============================] - 21s 22ms/step - loss: 2.3674 - accuracy: 0.4872\n",
      "Epoch 8/100\n",
      "957/957 [==============================] - 20s 21ms/step - loss: 2.1834 - accuracy: 0.5115\n",
      "Epoch 9/100\n",
      "957/957 [==============================] - 20s 21ms/step - loss: 2.0091 - accuracy: 0.5389\n",
      "Epoch 10/100\n",
      "957/957 [==============================] - 20s 21ms/step - loss: 1.9968 - accuracy: 0.5376\n",
      "Epoch 11/100\n",
      "957/957 [==============================] - 20s 21ms/step - loss: 1.9658 - accuracy: 0.5445\n",
      "Epoch 12/100\n",
      "957/957 [==============================] - 19s 20ms/step - loss: 1.9487 - accuracy: 0.5464\n",
      "Epoch 13/100\n",
      "957/957 [==============================] - 19s 20ms/step - loss: 1.9154 - accuracy: 0.5498\n",
      "Epoch 14/100\n",
      "957/957 [==============================] - 20s 20ms/step - loss: 1.8634 - accuracy: 0.5603\n",
      "Epoch 15/100\n",
      "957/957 [==============================] - 19s 20ms/step - loss: 1.8242 - accuracy: 0.5694\n",
      "Epoch 16/100\n",
      "957/957 [==============================] - 19s 20ms/step - loss: 1.8319 - accuracy: 0.5689\n",
      "Epoch 17/100\n",
      "957/957 [==============================] - 19s 20ms/step - loss: 1.8418 - accuracy: 0.5669\n",
      "Epoch 18/100\n",
      "957/957 [==============================] - 19s 20ms/step - loss: 1.8192 - accuracy: 0.5682\n",
      "Epoch 19/100\n",
      "957/957 [==============================] - 20s 21ms/step - loss: 1.7630 - accuracy: 0.5775\n",
      "Epoch 20/100\n",
      "957/957 [==============================] - 20s 21ms/step - loss: 1.7461 - accuracy: 0.5819\n",
      "Epoch 21/100\n",
      "957/957 [==============================] - 20s 21ms/step - loss: 1.7300 - accuracy: 0.5859\n",
      "Epoch 22/100\n",
      "957/957 [==============================] - 20s 21ms/step - loss: 1.7779 - accuracy: 0.5756\n",
      "Epoch 23/100\n",
      "957/957 [==============================] - 21s 22ms/step - loss: 1.7456 - accuracy: 0.5771\n",
      "Epoch 24/100\n",
      "957/957 [==============================] - 20s 21ms/step - loss: 1.7539 - accuracy: 0.5812\n",
      "Epoch 25/100\n",
      "957/957 [==============================] - 20s 21ms/step - loss: 1.7576 - accuracy: 0.5807\n",
      "Epoch 26/100\n",
      "957/957 [==============================] - 21s 22ms/step - loss: 1.7334 - accuracy: 0.5885\n",
      "Epoch 27/100\n",
      "957/957 [==============================] - 20s 21ms/step - loss: 1.7359 - accuracy: 0.5861\n",
      "Epoch 28/100\n",
      "957/957 [==============================] - 20s 21ms/step - loss: 1.7828 - accuracy: 0.5775\n",
      "Epoch 29/100\n",
      "957/957 [==============================] - 20s 21ms/step - loss: 1.7586 - accuracy: 0.5820\n",
      "Epoch 30/100\n",
      "957/957 [==============================] - 20s 21ms/step - loss: 1.7130 - accuracy: 0.5900\n",
      "Epoch 31/100\n",
      "957/957 [==============================] - 20s 21ms/step - loss: 1.6711 - accuracy: 0.5980\n",
      "Epoch 32/100\n",
      "957/957 [==============================] - 20s 20ms/step - loss: 1.6832 - accuracy: 0.5967\n",
      "Epoch 33/100\n",
      "957/957 [==============================] - 20s 20ms/step - loss: 1.7130 - accuracy: 0.5934\n",
      "Epoch 34/100\n",
      "957/957 [==============================] - 19s 20ms/step - loss: 1.7288 - accuracy: 0.5922\n",
      "Epoch 35/100\n",
      "957/957 [==============================] - 20s 20ms/step - loss: 1.7073 - accuracy: 0.5929\n",
      "Epoch 36/100\n",
      "957/957 [==============================] - 20s 21ms/step - loss: 1.6918 - accuracy: 0.5957\n",
      "Epoch 37/100\n",
      "957/957 [==============================] - 20s 21ms/step - loss: 1.7111 - accuracy: 0.5948\n",
      "Epoch 38/100\n",
      "957/957 [==============================] - 21s 22ms/step - loss: 1.6781 - accuracy: 0.6003\n",
      "Epoch 39/100\n",
      "957/957 [==============================] - 21s 21ms/step - loss: 1.6248 - accuracy: 0.6094\n",
      "Epoch 40/100\n",
      "957/957 [==============================] - 21s 21ms/step - loss: 1.6822 - accuracy: 0.6010\n",
      "Epoch 41/100\n",
      "957/957 [==============================] - 20s 21ms/step - loss: 1.6761 - accuracy: 0.6015\n",
      "Epoch 42/100\n",
      "957/957 [==============================] - 21s 21ms/step - loss: 1.6564 - accuracy: 0.6016\n",
      "Epoch 43/100\n",
      "957/957 [==============================] - 20s 21ms/step - loss: 1.6374 - accuracy: 0.6055\n",
      "Epoch 44/100\n",
      "957/957 [==============================] - 21s 22ms/step - loss: 1.6532 - accuracy: 0.6056\n",
      "Epoch 45/100\n",
      "957/957 [==============================] - 20s 21ms/step - loss: 1.7591 - accuracy: 0.5876\n",
      "Epoch 46/100\n",
      "957/957 [==============================] - 20s 20ms/step - loss: 1.7265 - accuracy: 0.5957\n",
      "Epoch 47/100\n",
      "957/957 [==============================] - 20s 20ms/step - loss: 1.7028 - accuracy: 0.5990\n",
      "Epoch 48/100\n",
      "957/957 [==============================] - 20s 21ms/step - loss: 1.6352 - accuracy: 0.6112\n",
      "Epoch 49/100\n",
      "957/957 [==============================] - 19s 20ms/step - loss: 1.6518 - accuracy: 0.6091\n",
      "Epoch 50/100\n",
      "957/957 [==============================] - 19s 20ms/step - loss: 1.6600 - accuracy: 0.6083\n",
      "Epoch 51/100\n",
      "957/957 [==============================] - 19s 20ms/step - loss: 1.6472 - accuracy: 0.6061\n",
      "Epoch 52/100\n",
      "957/957 [==============================] - 20s 20ms/step - loss: 1.6376 - accuracy: 0.6107\n",
      "Epoch 53/100\n",
      "957/957 [==============================] - 20s 21ms/step - loss: 1.6642 - accuracy: 0.6068\n",
      "Epoch 54/100\n",
      "957/957 [==============================] - 21s 21ms/step - loss: 1.6891 - accuracy: 0.6037\n",
      "Epoch 55/100\n",
      "957/957 [==============================] - 20s 21ms/step - loss: 1.7044 - accuracy: 0.6017\n",
      "Epoch 56/100\n",
      "957/957 [==============================] - 20s 21ms/step - loss: 1.5935 - accuracy: 0.6207\n",
      "Epoch 57/100\n",
      "957/957 [==============================] - 20s 21ms/step - loss: 1.6043 - accuracy: 0.6167\n",
      "Epoch 58/100\n",
      "957/957 [==============================] - 20s 21ms/step - loss: 1.6572 - accuracy: 0.6119\n",
      "Epoch 59/100\n",
      "957/957 [==============================] - 20s 21ms/step - loss: 1.6498 - accuracy: 0.6106\n",
      "Epoch 60/100\n",
      "957/957 [==============================] - 21s 22ms/step - loss: 1.6522 - accuracy: 0.6111\n",
      "Epoch 61/100\n",
      "957/957 [==============================] - 20s 21ms/step - loss: 1.6483 - accuracy: 0.6151\n",
      "Epoch 62/100\n",
      "957/957 [==============================] - 20s 21ms/step - loss: 1.6310 - accuracy: 0.6200\n",
      "Epoch 63/100\n",
      "957/957 [==============================] - 20s 21ms/step - loss: 1.6649 - accuracy: 0.6110\n",
      "Epoch 64/100\n",
      "957/957 [==============================] - 20s 21ms/step - loss: 1.6137 - accuracy: 0.6189\n",
      "Epoch 65/100\n",
      "957/957 [==============================] - 20s 21ms/step - loss: 1.6250 - accuracy: 0.6184\n",
      "Epoch 66/100\n",
      "957/957 [==============================] - 20s 21ms/step - loss: 1.6379 - accuracy: 0.6162\n",
      "Epoch 67/100\n",
      "957/957 [==============================] - 20s 21ms/step - loss: 1.6460 - accuracy: 0.6138\n",
      "Epoch 68/100\n",
      "957/957 [==============================] - 20s 21ms/step - loss: 1.6186 - accuracy: 0.6206\n",
      "Epoch 69/100\n",
      "957/957 [==============================] - 20s 21ms/step - loss: 1.6085 - accuracy: 0.6223\n",
      "Epoch 70/100\n",
      "957/957 [==============================] - 20s 21ms/step - loss: 1.6150 - accuracy: 0.6197\n",
      "Epoch 71/100\n",
      "957/957 [==============================] - 20s 21ms/step - loss: 1.6303 - accuracy: 0.6211\n",
      "Epoch 72/100\n",
      "957/957 [==============================] - 20s 21ms/step - loss: 1.6149 - accuracy: 0.6231\n",
      "Epoch 73/100\n",
      "957/957 [==============================] - 20s 21ms/step - loss: 1.5865 - accuracy: 0.6263\n",
      "Epoch 74/100\n",
      "957/957 [==============================] - 20s 21ms/step - loss: 1.6014 - accuracy: 0.6239\n",
      "Epoch 75/100\n",
      "957/957 [==============================] - 21s 22ms/step - loss: 1.5947 - accuracy: 0.6240\n",
      "Epoch 76/100\n",
      "957/957 [==============================] - 20s 21ms/step - loss: 1.5791 - accuracy: 0.6279\n",
      "Epoch 77/100\n",
      "957/957 [==============================] - 20s 21ms/step - loss: 1.5708 - accuracy: 0.6255\n",
      "Epoch 78/100\n",
      "957/957 [==============================] - 20s 21ms/step - loss: 1.6089 - accuracy: 0.6234\n",
      "Epoch 79/100\n",
      "957/957 [==============================] - 20s 21ms/step - loss: 1.5906 - accuracy: 0.6258\n",
      "Epoch 80/100\n",
      "957/957 [==============================] - 20s 21ms/step - loss: 1.5759 - accuracy: 0.6273\n",
      "Epoch 81/100\n",
      "957/957 [==============================] - 20s 21ms/step - loss: 1.5911 - accuracy: 0.6253\n",
      "Epoch 82/100\n",
      "957/957 [==============================] - 20s 21ms/step - loss: 1.5795 - accuracy: 0.6253\n",
      "Epoch 83/100\n",
      "957/957 [==============================] - 20s 20ms/step - loss: 1.6001 - accuracy: 0.6244\n",
      "Epoch 84/100\n",
      "957/957 [==============================] - 20s 20ms/step - loss: 1.5540 - accuracy: 0.6328\n",
      "Epoch 85/100\n",
      "957/957 [==============================] - 20s 21ms/step - loss: 1.5963 - accuracy: 0.6243\n",
      "Epoch 86/100\n",
      "957/957 [==============================] - 19s 20ms/step - loss: 1.6311 - accuracy: 0.6178\n",
      "Epoch 87/100\n",
      "957/957 [==============================] - 20s 21ms/step - loss: 1.5900 - accuracy: 0.6250\n",
      "Epoch 88/100\n",
      "957/957 [==============================] - 20s 21ms/step - loss: 1.5736 - accuracy: 0.6288\n",
      "Epoch 89/100\n",
      "957/957 [==============================] - 20s 21ms/step - loss: 1.5692 - accuracy: 0.6314\n",
      "Epoch 90/100\n",
      "957/957 [==============================] - 21s 22ms/step - loss: 1.5466 - accuracy: 0.6340\n",
      "Epoch 91/100\n",
      "957/957 [==============================] - 20s 21ms/step - loss: 1.5326 - accuracy: 0.6343\n",
      "Epoch 92/100\n",
      "957/957 [==============================] - 20s 21ms/step - loss: 1.5148 - accuracy: 0.6378\n",
      "Epoch 93/100\n",
      "957/957 [==============================] - 20s 21ms/step - loss: 1.5353 - accuracy: 0.6356\n",
      "Epoch 94/100\n",
      "957/957 [==============================] - 20s 21ms/step - loss: 1.5244 - accuracy: 0.6359\n",
      "Epoch 95/100\n",
      "957/957 [==============================] - 20s 21ms/step - loss: 1.5288 - accuracy: 0.6389\n",
      "Epoch 96/100\n",
      "957/957 [==============================] - 20s 21ms/step - loss: 1.5536 - accuracy: 0.6338\n",
      "Epoch 97/100\n",
      "957/957 [==============================] - 20s 20ms/step - loss: 1.5076 - accuracy: 0.6401\n",
      "Epoch 98/100\n",
      "957/957 [==============================] - 20s 20ms/step - loss: 1.5246 - accuracy: 0.6397\n",
      "Epoch 99/100\n",
      "957/957 [==============================] - 20s 20ms/step - loss: 1.4898 - accuracy: 0.6461\n",
      "Epoch 100/100\n",
      "957/957 [==============================] - 20s 21ms/step - loss: 1.5170 - accuracy: 0.6448\n"
     ]
    }
   ],
   "source": [
    "model = Sequential()\n",
    "model.add(Embedding(total_words, 100, input_length=max_sequence_len-1))\n",
    "# model.add(Bidirectional(LSTM(256,return_sequences= True)))\n",
    "model.add(Bidirectional(LSTM(150)))\n",
    "model.add(Dense(total_words, activation='softmax'))\n",
    "adam = Adam(lr=0.01)\n",
    "model.compile(loss='categorical_crossentropy', optimizer=adam, metrics=['accuracy'])\n",
    "print (model.summary())\n",
    "history = model.fit(xs, ys, epochs=100, verbose=1)"
   ]
  },
  {
   "cell_type": "markdown",
   "metadata": {
    "colab_type": "text",
    "id": "430a_K7NHuY5"
   },
   "source": [
    "## Plotting accuracy over epoch"
   ]
  },
  {
   "cell_type": "code",
   "execution_count": 8,
   "metadata": {
    "colab": {},
    "colab_type": "code",
    "id": "3YXGelKThoTT"
   },
   "outputs": [],
   "source": [
    "def plot_graphs(history, string):\n",
    "  plt.plot(history.history[string])\n",
    "  plt.xlabel(\"Epochs\")\n",
    "  plt.ylabel(string)\n",
    "  plt.show()"
   ]
  },
  {
   "cell_type": "code",
   "execution_count": 9,
   "metadata": {
    "colab": {
     "base_uri": "https://localhost:8080/",
     "height": 279
    },
    "colab_type": "code",
    "id": "poeprYK8h-c7",
    "outputId": "d8366c8d-2b1c-4145-9a38-de377be18f8c"
   },
   "outputs": [
    {
     "data": {
      "image/png": "[encoded data removed]",
      "text/plain": [
       "<Figure size 432x288 with 1 Axes>"
      ]
     },
     "metadata": {
      "needs_background": "light",
      "tags": []
     },
     "output_type": "display_data"
    }
   ],
   "source": [
    "plot_graphs(history, 'accuracy')"
   ]
  },
  {
   "cell_type": "markdown",
   "metadata": {
    "colab_type": "text",
    "id": "EQ5v8NrHHuZB"
   },
   "source": [
    "## Finally Saving Tokenizer and Trained Model !"
   ]
  },
  {
   "cell_type": "code",
   "execution_count": 8,
   "metadata": {
    "colab": {
     "base_uri": "https://localhost:8080/",
     "height": 35
    },
    "colab_type": "code",
    "id": "97aEq0rV9nJF",
    "outputId": "1a203e99-a94c-4d91-8636-47fcb6dca11b"
   },
   "outputs": [],
   "source": [
    "import pickle\n",
    "\n",
    "with open('model_files/tokenizer.pkl', 'wb') as tokenizer_file:\n",
    "    pickle.dump(tokenizer, tokenizer_file)\n",
    "\n",
    "model.save('model_files/lyrics_model.h5')"
   ]
  }
 ],
 "metadata": {
  "accelerator": "GPU",
  "colab": {
   "collapsed_sections": [],
   "name": "lyrics generator.ipynb",
   "provenance": [],
   "toc_visible": true
  },
  "kernelspec": {
   "display_name": "Python 3",
   "language": "python",
   "name": "python3"
  },
  "language_info": {
   "codemirror_mode": {
    "name": "ipython",
    "version": 3
   },
   "file_extension": ".py",
   "mimetype": "text/x-python",
   "name": "python",
   "nbconvert_exporter": "python",
   "pygments_lexer": "ipython3",
   "version": "3.8.5"
  }
 },
 "nbformat": 4,
 "nbformat_minor": 4
}
